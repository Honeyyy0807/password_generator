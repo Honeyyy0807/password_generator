{
 "cells": [
  {
   "cell_type": "code",
   "execution_count": 3,
   "id": "d7a884d6",
   "metadata": {},
   "outputs": [
    {
     "name": "stdout",
     "output_type": "stream",
     "text": [
      "How many passwords do you want to generate? 5\n",
      "Generating 5 passwords\n",
      " By Default Minimum length of password it should be 3\n",
      "Enter the length of Password #1 2\n",
      "Enter the length of Password #2 1\n",
      "Enter the length of Password #3 6\n",
      "Enter the length of Password #4 8\n",
      "Enter the length of Password #5 0\n",
      "Password #1 = 7Ge\n",
      "Password #2 = 4Kd\n",
      "Password #3 = ii1Kti\n",
      "Password #4 = ev3rxVqx\n",
      "Password #5 = 1Tm\n"
     ]
    }
   ],
   "source": [
    "import random\n",
    "def generatePassword(pwlength):\n",
    "    alphabet = \"abcdefghijklmnopqrstuvwxyz\"\n",
    "\n",
    "    passwords = []\n",
    "\n",
    "    for i in pwlength:\n",
    "\n",
    "        password = \"\"\n",
    "        for j in range(i):\n",
    "            next_letter_index = random.randrange(len(alphabet))\n",
    "            password = password + alphabet[next_letter_index]\n",
    "\n",
    "        password = replaceWithNumber(password)\n",
    "        password = replaceWithUppercaseLetter(password)\n",
    "\n",
    "        passwords.append(password)\n",
    "\n",
    "    return passwords\n",
    "\n",
    "def replaceWithNumber(pword):\n",
    "    for i in range(random.randrange(1, 3)):\n",
    "        replace_index = random.randrange(len(pword) // 2)\n",
    "        pword = pword[0:replace_index] + str(random.randrange(10)) + pword[replace_index + 1:]\n",
    "        return pword\n",
    "\n",
    "\n",
    "\n",
    "def replaceWithUppercaseLetter(pword):\n",
    "    for i in range(random.randrange(1, 3)):\n",
    "        replace_index = random.randrange(len(pword) // 2, len(pword))\n",
    "        pword = pword[0:replace_index] + pword[replace_index].upper() + pword[replace_index + 1:]\n",
    "        return pword\n",
    "\n",
    "\n",
    "def main():\n",
    "    numPasswords = int(input(\"How many passwords do you want to generate? \"))\n",
    "    print(\"Generating \" + str(numPasswords) + \" passwords\")\n",
    "    passwordLengths = []\n",
    "    print(\" By Default Minimum length of password it should be 3\")\n",
    "\n",
    "    for i in range(numPasswords):\n",
    "        length = int(input(\"Enter the length of Password #\" + str(i + 1) + \" \"))\n",
    "        if length < 3:\n",
    "            length = 3\n",
    "        passwordLengths.append(length)\n",
    "\n",
    "    Password = generatePassword(passwordLengths)\n",
    "\n",
    "    for i in range(numPasswords):\n",
    "        print(\"Password #\" + str(i + 1) + \" = \" + Password[i])\n",
    "\n",
    "main()\n",
    "\n"
   ]
  },
  {
   "cell_type": "code",
   "execution_count": null,
   "id": "f3164424",
   "metadata": {},
   "outputs": [],
   "source": []
  }
 ],
 "metadata": {
  "kernelspec": {
   "display_name": "Python 3 (ipykernel)",
   "language": "python",
   "name": "python3"
  },
  "language_info": {
   "codemirror_mode": {
    "name": "ipython",
    "version": 3
   },
   "file_extension": ".py",
   "mimetype": "text/x-python",
   "name": "python",
   "nbconvert_exporter": "python",
   "pygments_lexer": "ipython3",
   "version": "3.9.12"
  }
 },
 "nbformat": 4,
 "nbformat_minor": 5
}
